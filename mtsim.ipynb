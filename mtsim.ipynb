{
 "cells": [
  {
   "cell_type": "markdown",
   "id": "c11f3b2c",
   "metadata": {},
   "source": [
    "## MTSIM\n"
   ]
  },
  {
   "cell_type": "code",
   "execution_count": 1,
   "id": "cedda60c",
   "metadata": {
    "ExecuteTime": {
     "end_time": "2022-11-21T07:25:07.754249Z",
     "start_time": "2022-11-21T07:25:06.362259Z"
    }
   },
   "outputs": [],
   "source": [
    "from typing import List, Tuple, Dict, Any, Optional, Union, Callable\n",
    "import os\n",
    "\n",
    "import copy\n",
    "from datetime import datetime\n",
    "from pathos.multiprocessing import ProcessingPool as Pool\n",
    "\n",
    "import numpy as np\n",
    "from scipy.special import expit\n",
    "\n",
    "import matplotlib.pyplot as plt\n",
    "import matplotlib.cm as plt_cm\n",
    "import matplotlib.colors as plt_colors\n",
    "import plotly.graph_objects as go\n",
    "import pandas as pd\n",
    "import gym\n",
    "from gym import spaces\n",
    "from gym.utils import seeding\n",
    "import pytz\n",
    "from datetime import datetime, timedelta\n",
    "import numpy as np\n",
    "from datetime import datetime, timedelta\n",
    "\n",
    "from finta import TA"
   ]
  },
  {
   "cell_type": "code",
   "execution_count": 2,
   "id": "2ceb0123",
   "metadata": {
    "ExecuteTime": {
     "end_time": "2022-11-21T07:25:08.900245Z",
     "start_time": "2022-11-21T07:25:07.755251Z"
    }
   },
   "outputs": [],
   "source": [
    "from gym_mtsim import MtSimulator, FOREX_DATA_PATH\n",
    "from gym_mtsim import OrderType, Timeframe\n",
    "\n",
    "from stable_baselines3.common.vec_env import DummyVecEnv, SubprocVecEnv\n",
    "from stable_baselines3.common.env_util import make_vec_env"
   ]
  },
  {
   "cell_type": "code",
   "execution_count": 3,
   "id": "6d282ef0",
   "metadata": {
    "ExecuteTime": {
     "end_time": "2022-11-21T07:25:08.916304Z",
     "start_time": "2022-11-21T07:25:08.901247Z"
    }
   },
   "outputs": [],
   "source": [
    "# Moved this into its own class as calculating on multiprocessing is very slow - do once and reuse\n",
    "\n",
    "class dataHandler():\n",
    "\n",
    "    def __init__(\n",
    "        self, original_simulator: MtSimulator, \n",
    "        trading_symbols: List[str], \n",
    "        time_points: Optional[List[datetime]]=None, \n",
    "        window_size = 10,\n",
    "        ) -> None:\n",
    "\n",
    "        self.original_simulator = original_simulator\n",
    "        self.trading_symbols = trading_symbols\n",
    "\n",
    "        if time_points is None:\n",
    "            time_points = original_simulator.symbols_data[trading_symbols[0]].index.to_pydatetime().tolist()\n",
    "        assert len(time_points) > window_size, \"not enough time points provided\"\n",
    "\n",
    "        self.time_points = time_points\n",
    "\n",
    "    def _get_prices(self, keys: List[str]=['Close','Open', 'High','Low']) -> Dict[str, np.ndarray]:\n",
    "        prices = {}\n",
    "\n",
    "        for symbol in self.trading_symbols:\n",
    "            get_price_at = lambda time: \\\n",
    "                self.original_simulator.price_at(symbol, time)[keys]\n",
    "\n",
    "            p = list(map(get_price_at, self.time_points))\n",
    "\n",
    "            temp1 = pd.DataFrame(p)\n",
    "\n",
    "            temp1.rename(columns={\"close\": \"Close\", \"open\": \"Open\", 'high': 'High', 'low': 'Low'})\n",
    "\n",
    "            temp1['SSMA20'] = TA.SSMA(temp1, 20) #- self.dataDF['close']\n",
    "            temp1['SSMA100'] = TA.SSMA(temp1, 100) #- self.dataDF['close']\n",
    "            temp1['RSI'] = TA.RSI(temp1, period=20) #['BB_UPPER'] #- self.dataDF['close']\n",
    "            temp1['BB_UPPER'] = TA.BBANDS(temp1, period=20)['BB_UPPER'] #- self.dataDF['close']\n",
    "            temp1['BB_LOWER'] = TA.BBANDS(temp1, period = 20 )['BB_LOWER'] #- self.dataDF['close']\n",
    "\n",
    "            temp1.rename(columns={\"Close\": \"close\", \"Open\": \"open\"},inplace=True)\n",
    "            temp1.drop(['open', 'High', 'Low'], axis=1)\n",
    "\n",
    "            # we cant just drop the nan's because that gives incomplete time points. Fill them in\n",
    "            temp1.fillna(None, method='backfill', inplace = True)\n",
    "\n",
    "            p = [row for i, row in temp1.iterrows()]\n",
    "\n",
    "            prices[symbol] = np.array(p)\n",
    "\n",
    "        return prices, self.time_points"
   ]
  },
  {
   "cell_type": "code",
   "execution_count": 4,
   "id": "a4b127be",
   "metadata": {
    "ExecuteTime": {
     "end_time": "2022-11-21T07:25:08.932245Z",
     "start_time": "2022-11-21T07:25:08.917247Z"
    }
   },
   "outputs": [],
   "source": [
    "from enum import Enum\n",
    "#Again not wanting to worry about logits - although this will make multicurrency harder later - but can revisit.\n",
    "class Actions(Enum):\n",
    "    Sell = 0\n",
    "    Buy = 1\n",
    "    Close = 2\n",
    "    Hold = 3"
   ]
  },
  {
   "cell_type": "code",
   "execution_count": 5,
   "id": "aa800f79",
   "metadata": {
    "ExecuteTime": {
     "end_time": "2022-11-21T07:25:09.042244Z",
     "start_time": "2022-11-21T07:25:08.933246Z"
    }
   },
   "outputs": [],
   "source": [
    "class MtEnv(gym.Env):\n",
    "\n",
    "    metadata = {'render.modes': ['human', 'simple_figure', 'advanced_figure']}\n",
    "\n",
    "    def __init__(\n",
    "            self, original_simulator: MtSimulator, trading_symbols: List[str],\n",
    "            window_size: int,priceData, time_points: Optional[List[datetime]]=None,\n",
    "            hold_threshold: float=0.5, close_threshold: float=0.5,\n",
    "            fee: Union[float, Callable[[str], float]]=0.0005,\n",
    "            symbol_max_orders: int=1, multiprocessing_processes: Optional[int]=None\n",
    "        ) -> None:\n",
    "\n",
    "        # validations\n",
    "        assert len(original_simulator.symbols_data) > 0, \"no data available\"\n",
    "        assert len(original_simulator.symbols_info) > 0, \"no data available\"\n",
    "        assert len(trading_symbols) > 0, \"no trading symbols provided\"\n",
    "        assert 0. <= hold_threshold <= 1., \"'hold_threshold' must be in range [0., 1.]\"\n",
    "\n",
    "        if not original_simulator.hedge:\n",
    "            symbol_max_orders = 1\n",
    "\n",
    "        for symbol in trading_symbols:\n",
    "            assert symbol in original_simulator.symbols_info, f\"symbol '{symbol}' not found\"\n",
    "            currency_profit = original_simulator.symbols_info[symbol].currency_profit\n",
    "            assert original_simulator._get_unit_symbol_info(currency_profit) is not None, \\\n",
    "                   f\"unit symbol for '{currency_profit}' not found\"\n",
    "\n",
    "        if time_points is None:\n",
    "            time_points = original_simulator.symbols_data[trading_symbols[0]].index.to_pydatetime().tolist()\n",
    "        assert len(time_points) > window_size, \"not enough time points provided\"\n",
    "\n",
    "        # attributes\n",
    "        self.seed()\n",
    "        self.original_simulator = original_simulator\n",
    "        self.trading_symbols = trading_symbols\n",
    "        self.window_size = window_size\n",
    "        self.time_points = time_points\n",
    "        self.hold_threshold = hold_threshold\n",
    "        self.close_threshold = close_threshold\n",
    "        self.fee = fee\n",
    "        self.symbol_max_orders = symbol_max_orders\n",
    "        self.multiprocessing_pool = Pool(multiprocessing_processes) if multiprocessing_processes else None\n",
    "\n",
    "        self.prices = priceData\n",
    "        self.signal_features = self._process_data()\n",
    "        self.features_shape = (window_size, self.signal_features.shape[1])\n",
    "\n",
    "        # spaces\n",
    "        self.action_space = spaces.Box(\n",
    "            low=-99999999999999, high=9999999999999,\n",
    "            shape=(len(self.trading_symbols) * (self.symbol_max_orders + 2),)\n",
    "        )  # symbol -> [close_order_i(logit), hold(logit), volume]\n",
    "\n",
    "        #Actions\n",
    "        # self.action_space = spaces.Discrete(len(Actions))\n",
    "\n",
    "        self.action_space = spaces.MultiDiscrete([len(self.trading_symbols), len(Actions)])    \n",
    "        \n",
    "        self.observation_space = spaces.Dict({\n",
    "            'balance': spaces.Box(low=-np.inf, high=np.inf, shape=(1,)),\n",
    "            'equity': spaces.Box(low=-np.inf, high=np.inf, shape=(1,)),\n",
    "            'margin': spaces.Box(low=-np.inf, high=np.inf, shape=(1,)),\n",
    "            'features': spaces.Box(low=-np.inf, high=np.inf, shape=self.features_shape),\n",
    "            'orders': spaces.Box(\n",
    "                low=-np.inf, high=np.inf,\n",
    "                shape=(len(self.trading_symbols), self.symbol_max_orders, 3)\n",
    "            )  # symbol, order_i -> [entry_price, volume, profit]\n",
    "        })\n",
    "\n",
    "        # episode\n",
    "        self._start_tick = self.window_size - 1\n",
    "        self._end_tick = len(self.time_points) - 1\n",
    "        self._done: bool = NotImplemented\n",
    "        self._current_tick: int = NotImplemented\n",
    "        self.simulator: MtSimulator = NotImplemented\n",
    "        self.history: List[Dict[str, Any]] = NotImplemented\n",
    "\n",
    "\n",
    "    def seed(self, seed: Optional[int]=None) -> List[int]:\n",
    "        self.np_random, seed = seeding.np_random(seed)\n",
    "        return [seed]\n",
    "\n",
    "\n",
    "    def reset(self) -> Dict[str, np.ndarray]:\n",
    "        self._done = False\n",
    "        self._current_tick = self._start_tick\n",
    "        self.simulator = copy.deepcopy(self.original_simulator)\n",
    "        self.simulator.current_time = self.time_points[self._current_tick]\n",
    "        self.history = [self._create_info()]\n",
    "        return self._get_observation()\n",
    "\n",
    "\n",
    "    def step(self, action: np.ndarray) -> Tuple[Dict[str, np.ndarray], float, bool, Dict[str, Any]]:\n",
    "        orders_info, closed_orders_info = self._apply_action(action)\n",
    "\n",
    "        self._current_tick += 1\n",
    "        if self._current_tick == self._end_tick:\n",
    "            self._done = True\n",
    "\n",
    "        dt = self.time_points[self._current_tick] - self.time_points[self._current_tick - 1]\n",
    "        self.simulator.tick(dt)\n",
    "\n",
    "        step_reward = self._calculate_reward()\n",
    "\n",
    "        info = self._create_info(\n",
    "            orders=orders_info, closed_orders=closed_orders_info, step_reward=step_reward\n",
    "        )\n",
    "        observation = self._get_observation()\n",
    "        self.history.append(info)\n",
    "\n",
    "        return observation, step_reward, self._done, info\n",
    "\n",
    "\n",
    "    \n",
    "    # Rmeinder: self.action_space = spaces.MultiDiscrete([len(self.trading_symbols), len(Actions)])    \n",
    "    def _apply_action(self, action: np.ndarray) -> Tuple[Dict, Dict]:\n",
    "        orders_info = {}\n",
    "        closed_orders_info = {symbol: [] for symbol in self.trading_symbols}\n",
    "\n",
    "\n",
    "        self.trading_symbols\n",
    "        symbol = self.trading_symbols[action[0]]\n",
    "        symbol_orders = self.simulator.symbol_orders(symbol)\n",
    "        if action[1] == Actions.Close.value:\n",
    "            \n",
    "\n",
    "            for j, order in enumerate(symbol_orders):\n",
    "                self.simulator.close_order(order)\n",
    "                closed_orders_info[symbol].append(dict(\n",
    "                    order_id=order.id, symbol=order.symbol, order_type=order.type,\n",
    "                    volume=order.volume, fee=order.fee,\n",
    "                    margin=order.margin, profit=order.profit,\n",
    "                    close_probability=0.5,\n",
    "                ))\n",
    "        symbol_orders = self.simulator.symbol_orders(symbol)\n",
    "        # Close order if position change\n",
    "        if action[1] == Actions.Buy.value or action[1] == Actions.Sell.value:                \n",
    "            for j, order in enumerate(symbol_orders):                \n",
    "                if (action[1] == Actions.Sell.value and  order.type == OrderType.Buy) or (action[1] == Actions.Buy.value and  order.type == OrderType.Sell):\n",
    "                    self.simulator.close_order(order)\n",
    "                    closed_orders_info[symbol].append(dict(\n",
    "                        order_id=order.id, symbol=order.symbol, order_type=order.type,\n",
    "                        volume=order.volume, fee=order.fee,\n",
    "                        margin=order.margin, profit=order.profit,\n",
    "                        close_probability=0.5,\n",
    "                    )) \n",
    "        symbol_orders = self.simulator.symbol_orders(symbol)\n",
    "        \n",
    "        #Open New order\n",
    "        if action[1] == Actions.Buy.value or action[1] == Actions.Sell.value:\n",
    "            symbol_orders = self.simulator.symbol_orders(symbol)\n",
    "            orders_capacity = self.symbol_max_orders - len(symbol_orders)\n",
    "            hold_probability = 0.5\n",
    "            \n",
    "            # For training its better to not fanny around with volumes.\n",
    "            modified_volume = 0.1\n",
    "                \n",
    "            orders_info[symbol] = dict(\n",
    "                order_id=None, symbol=symbol, hold_probability=hold_probability,\n",
    "                hold=0.5, volume=0.1, capacity=orders_capacity, order_type=None,\n",
    "                modified_volume=modified_volume, fee=float('nan'), margin=float('nan'),\n",
    "                error='',\n",
    "            )\n",
    "\n",
    "            if orders_capacity == 0:\n",
    "                orders_info[symbol].update(dict(\n",
    "                    error=\"cannot add more orders\"\n",
    "                ))\n",
    "            else:\n",
    "                order_type = OrderType.Buy if action[1] == Actions.Buy.value else OrderType.Sell\n",
    "                fee = self.fee if type(self.fee) is float else self.fee(symbol)\n",
    "\n",
    "                try:\n",
    "                    order = self.simulator.create_order(order_type, symbol, modified_volume, fee)\n",
    "                    new_info = dict(\n",
    "                        order_id=order.id, order_type=order_type,\n",
    "                        fee=fee, margin=order.margin,\n",
    "                    )\n",
    "                except ValueError as e:\n",
    "                    new_info = dict(error=str(e))\n",
    "\n",
    "                orders_info[symbol].update(new_info)\n",
    "\n",
    "        return orders_info, closed_orders_info\n",
    "\n",
    "    def _process_data(self) -> np.ndarray:\n",
    "        data = self.prices\n",
    "        signal_features = np.column_stack(list(data.values()))\n",
    "              \n",
    "        return signal_features\n",
    "\n",
    "\n",
    "    def _get_observation(self) -> Dict[str, np.ndarray]:\n",
    "        features = self.signal_features[(self._current_tick-self.window_size+1):(self._current_tick+1)]\n",
    "\n",
    "        orders = np.zeros(self.observation_space['orders'].shape)\n",
    "        for i, symbol in enumerate(self.trading_symbols):\n",
    "            symbol_orders = self.simulator.symbol_orders(symbol)\n",
    "            for j, order in enumerate(symbol_orders):\n",
    "                orders[i, j] = [order.entry_price, order.volume, order.profit]\n",
    "\n",
    "        observation = {\n",
    "            'balance': np.array([self.simulator.balance]),\n",
    "            'equity': np.array([self.simulator.equity]),\n",
    "            'margin': np.array([self.simulator.margin]),\n",
    "            'features': features,\n",
    "            'orders': orders,\n",
    "        }\n",
    "        return observation\n",
    "\n",
    "\n",
    "    def _calculate_reward(self) -> float:\n",
    "        prev_equity = self.history[-1]['equity']\n",
    "        current_equity = self.simulator.equity\n",
    "        step_reward = current_equity - prev_equity\n",
    "        return step_reward\n",
    "\n",
    "\n",
    "    def _create_info(self, **kwargs: Any) -> Dict[str, Any]:\n",
    "        info = {k: v for k, v in kwargs.items()}\n",
    "        info['balance'] = self.simulator.balance\n",
    "        info['equity'] = self.simulator.equity\n",
    "        info['margin'] = self.simulator.margin\n",
    "        info['free_margin'] = self.simulator.free_margin\n",
    "        info['margin_level'] = self.simulator.margin_level\n",
    "        return info\n",
    "\n",
    "\n",
    "    def _get_modified_volume(self, symbol: str, volume: float) -> float:\n",
    "        si = self.simulator.symbols_info[symbol]\n",
    "        v = abs(volume)\n",
    "        v = np.clip(v, si.volume_min, si.volume_max)\n",
    "        v = round(v / si.volume_step) * si.volume_step\n",
    "        v = 0.01 # Fixed\n",
    "        return v\n",
    "\n",
    "\n",
    "    def render(self, mode: str='human', **kwargs: Any) -> Any:\n",
    "        if mode == 'simple_figure':\n",
    "            return self._render_simple_figure(**kwargs)\n",
    "        if mode == 'advanced_figure':\n",
    "            return self._render_advanced_figure(**kwargs)\n",
    "        return self.simulator.get_state(**kwargs)\n",
    "\n",
    "\n",
    "    def _render_simple_figure(\n",
    "        self, figsize: Tuple[float, float]=(14, 6), return_figure: bool=False\n",
    "    ) -> Any:\n",
    "        fig, ax = plt.subplots(figsize=figsize, facecolor='white')\n",
    "\n",
    "        cmap_colors = np.array(plt_cm.tab10.colors)[[0, 1, 4, 5, 6, 8]]\n",
    "        cmap = plt_colors.LinearSegmentedColormap.from_list('mtsim', cmap_colors)\n",
    "        symbol_colors = cmap(np.linspace(0, 1, len(self.trading_symbols)))\n",
    "\n",
    "        for j, symbol in enumerate(self.trading_symbols):\n",
    "            close_price = self.prices[symbol][:, 0]\n",
    "            symbol_color = symbol_colors[j]\n",
    "\n",
    "            ax.plot(self.time_points, close_price, c=symbol_color, marker='.', label=symbol)\n",
    "\n",
    "            buy_ticks = []\n",
    "            buy_error_ticks = []\n",
    "            sell_ticks = []\n",
    "            sell_error_ticks = []\n",
    "            close_ticks = []\n",
    "\n",
    "            for i in range(1, len(self.history)):\n",
    "                tick = self._start_tick + i - 1\n",
    "\n",
    "                order = self.history[i]['orders'].get(symbol, {})\n",
    "                if order and not order['hold']:\n",
    "                    if order['order_type'] == OrderType.Buy:\n",
    "                        if order['error']:\n",
    "                            buy_error_ticks.append(tick)\n",
    "                        else:\n",
    "                            buy_ticks.append(tick)\n",
    "                    else:\n",
    "                        if order['error']:\n",
    "                            sell_error_ticks.append(tick)\n",
    "                        else:\n",
    "                            sell_ticks.append(tick)\n",
    "\n",
    "                closed_orders = self.history[i]['closed_orders'].get(symbol, [])\n",
    "                if len(closed_orders) > 0:\n",
    "                    close_ticks.append(tick)\n",
    "\n",
    "            tp = np.array(self.time_points)\n",
    "            ax.plot(tp[buy_ticks], close_price[buy_ticks], '^', color='green')\n",
    "            ax.plot(tp[buy_error_ticks], close_price[buy_error_ticks], '^', color='gray')\n",
    "            ax.plot(tp[sell_ticks], close_price[sell_ticks], 'v', color='red')\n",
    "            ax.plot(tp[sell_error_ticks], close_price[sell_error_ticks], 'v', color='gray')\n",
    "            ax.plot(tp[close_ticks], close_price[close_ticks], '|', color='black')\n",
    "\n",
    "            ax.tick_params(axis='y', labelcolor=symbol_color)\n",
    "            ax.yaxis.tick_left()\n",
    "            if j < len(self.trading_symbols) - 1:\n",
    "                ax = ax.twinx()\n",
    "\n",
    "        fig.suptitle(\n",
    "            f\"Balance: {self.simulator.balance:.6f} {self.simulator.unit} ~ \"\n",
    "            f\"Equity: {self.simulator.equity:.6f} ~ \"\n",
    "            f\"Margin: {self.simulator.margin:.6f} ~ \"\n",
    "            f\"Free Margin: {self.simulator.free_margin:.6f} ~ \"\n",
    "            f\"Margin Level: {self.simulator.margin_level:.6f}\"\n",
    "        )\n",
    "        fig.legend(loc='right')\n",
    "\n",
    "        if return_figure:\n",
    "            return fig\n",
    "\n",
    "        plt.show()\n",
    "\n",
    "\n",
    "    def _render_advanced_figure(\n",
    "            self, figsize: Tuple[float, float]=(1400, 600), time_format: str=\"%Y-%m-%d %H:%m\",\n",
    "            return_figure: bool=False\n",
    "        ) -> Any:\n",
    "\n",
    "        fig = go.Figure()\n",
    "\n",
    "        cmap_colors = np.array(plt_cm.tab10.colors)[[0, 1, 4, 5, 6, 8]]\n",
    "        cmap = plt_colors.LinearSegmentedColormap.from_list('mtsim', cmap_colors)\n",
    "        symbol_colors = cmap(np.linspace(0, 1, len(self.trading_symbols)))\n",
    "        get_color_string = lambda color: \"rgba(%s, %s, %s, %s)\" % tuple(color)\n",
    "\n",
    "        extra_info = [\n",
    "            f\"balance: {h['balance']:.6f} {self.simulator.unit}<br>\"\n",
    "            f\"equity: {h['equity']:.6f}<br>\"\n",
    "            f\"margin: {h['margin']:.6f}<br>\"\n",
    "            f\"free margin: {h['free_margin']:.6f}<br>\"\n",
    "            f\"margin level: {h['margin_level']:.6f}\"\n",
    "            for h in self.history\n",
    "        ]\n",
    "        extra_info = [extra_info[0]] * (self.window_size - 1) + extra_info\n",
    "\n",
    "        for j, symbol in enumerate(self.trading_symbols):\n",
    "            close_price = self.prices[symbol][:, 0]\n",
    "            symbol_color = symbol_colors[j]\n",
    "\n",
    "            fig.add_trace(\n",
    "                go.Scatter(\n",
    "                    x=self.time_points,\n",
    "                    y=close_price,\n",
    "                    mode='lines+markers',\n",
    "                    line_color=get_color_string(symbol_color),\n",
    "                    opacity=1.0,\n",
    "                    hovertext=extra_info,\n",
    "                    name=symbol,\n",
    "                    yaxis=f'y{j+1}',\n",
    "                    legendgroup=f'g{j+1}',\n",
    "                ),\n",
    "            )\n",
    "\n",
    "            fig.update_layout(**{\n",
    "                f'yaxis{j+1}': dict(\n",
    "                    tickfont=dict(color=get_color_string(symbol_color * [1, 1, 1, 0.8])),\n",
    "                    overlaying='y' if j > 0 else None,\n",
    "                    # position=0.035*j\n",
    "                ),\n",
    "            })\n",
    "\n",
    "            trade_ticks = []\n",
    "            trade_markers = []\n",
    "            trade_colors = []\n",
    "            trade_sizes = []\n",
    "            trade_extra_info = []\n",
    "            trade_max_volume = max([\n",
    "                h.get('orders', {}).get(symbol, {}).get('modified_volume') or 0\n",
    "                for h in self.history\n",
    "            ])\n",
    "            close_ticks = []\n",
    "            close_extra_info = []\n",
    "\n",
    "            for i in range(1, len(self.history)):\n",
    "                tick = self._start_tick + i - 1\n",
    "\n",
    "                order = self.history[i]['orders'].get(symbol)\n",
    "                if order and not order['hold']:\n",
    "                    marker = None\n",
    "                    color = None\n",
    "                    size = 8 + 22 * (order['modified_volume'] / trade_max_volume)\n",
    "                    info = (\n",
    "                        f\"order id: {order['order_id'] or ''}<br>\"\n",
    "                        f\"hold probability: {order['hold_probability']:.4f}<br>\"\n",
    "                        f\"hold: {order['hold']}<br>\"\n",
    "                        f\"volume: {order['volume']:.6f}<br>\"\n",
    "                        f\"modified volume: {order['modified_volume']:.4f}<br>\"\n",
    "                        f\"fee: {order['fee']:.6f}<br>\"\n",
    "                        f\"margin: {order['margin']:.6f}<br>\"\n",
    "                        f\"error: {order['error']}\"\n",
    "                    )\n",
    "\n",
    "                    if order['order_type'] == OrderType.Buy:\n",
    "                        marker = 'triangle-up'\n",
    "                        color = 'gray' if order['error'] else 'green'\n",
    "                    else:\n",
    "                        marker = 'triangle-down'\n",
    "                        color = 'gray' if order['error'] else 'red'\n",
    "\n",
    "                    trade_ticks.append(tick)\n",
    "                    trade_markers.append(marker)\n",
    "                    trade_colors.append(color)\n",
    "                    trade_sizes.append(size)\n",
    "                    trade_extra_info.append(info)\n",
    "\n",
    "                closed_orders = self.history[i]['closed_orders'].get(symbol, [])\n",
    "                if len(closed_orders) > 0:\n",
    "                    info = []\n",
    "                    for order in closed_orders:\n",
    "                        info_i = (\n",
    "                            f\"order id: {order['order_id']}<br>\"\n",
    "                            f\"order type: {order['order_type'].name}<br>\"\n",
    "                            f\"close probability: {order['close_probability']:.4f}<br>\"\n",
    "                            f\"margin: {order['margin']:.6f}<br>\"\n",
    "                            f\"profit: {order['profit']:.6f}\"\n",
    "                        )\n",
    "                        info.append(info_i)\n",
    "                    info = '<br>---------------------------------<br>'.join(info)\n",
    "\n",
    "                    close_ticks.append(tick)\n",
    "                    close_extra_info.append(info)\n",
    "\n",
    "            fig.add_trace(\n",
    "                go.Scatter(\n",
    "                    x=np.array(self.time_points)[trade_ticks],\n",
    "                    y=close_price[trade_ticks],\n",
    "                    mode='markers',\n",
    "                    hovertext=trade_extra_info,\n",
    "                    marker_symbol=trade_markers,\n",
    "                    marker_color=trade_colors,\n",
    "                    marker_size=trade_sizes,\n",
    "                    name=symbol,\n",
    "                    yaxis=f'y{j+1}',\n",
    "                    showlegend=False,\n",
    "                    legendgroup=f'g{j+1}',\n",
    "                ),\n",
    "            )\n",
    "\n",
    "            fig.add_trace(\n",
    "                go.Scatter(\n",
    "                    x=np.array(self.time_points)[close_ticks],\n",
    "                    y=close_price[close_ticks],\n",
    "                    mode='markers',\n",
    "                    hovertext=close_extra_info,\n",
    "                    marker_symbol='line-ns',\n",
    "                    marker_color='black',\n",
    "                    marker_size=7,\n",
    "                    marker_line_width=1.5,\n",
    "                    name=symbol,\n",
    "                    yaxis=f'y{j+1}',\n",
    "                    showlegend=False,\n",
    "                    legendgroup=f'g{j+1}',\n",
    "                ),\n",
    "            )\n",
    "\n",
    "        title = (\n",
    "            f\"Balance: {self.simulator.balance:.6f} {self.simulator.unit} ~ \"\n",
    "            f\"Equity: {self.simulator.equity:.6f} ~ \"\n",
    "            f\"Margin: {self.simulator.margin:.6f} ~ \"\n",
    "            f\"Free Margin: {self.simulator.free_margin:.6f} ~ \"\n",
    "            f\"Margin Level: {self.simulator.margin_level:.6f}\"\n",
    "        )\n",
    "        fig.update_layout(\n",
    "            title=title,\n",
    "            xaxis_tickformat=time_format,\n",
    "            width=figsize[0],\n",
    "            height=figsize[1],\n",
    "        )\n",
    "\n",
    "        if return_figure:\n",
    "            return fig\n",
    "\n",
    "        fig.show()\n",
    "\n",
    "\n",
    "    def close(self) -> None:\n",
    "        plt.close()"
   ]
  },
  {
   "cell_type": "code",
   "execution_count": 6,
   "id": "2004ca67",
   "metadata": {
    "ExecuteTime": {
     "end_time": "2022-11-21T07:25:09.058246Z",
     "start_time": "2022-11-21T07:25:09.043247Z"
    }
   },
   "outputs": [
    {
     "data": {
      "text/plain": [
       "'C:\\\\Users\\\\chris\\\\PycharmProjects\\\\gym-mtsim\\\\gym_mtsim\\\\data\\\\symbols_forex.pkl'"
      ]
     },
     "execution_count": 6,
     "metadata": {},
     "output_type": "execute_result"
    }
   ],
   "source": [
    "FOREX_DATA_PATH"
   ]
  },
  {
   "cell_type": "code",
   "execution_count": 7,
   "id": "69870a9d",
   "metadata": {
    "ExecuteTime": {
     "end_time": "2022-11-21T07:25:09.074245Z",
     "start_time": "2022-11-21T07:25:09.060245Z"
    }
   },
   "outputs": [],
   "source": [
    "from typing import List, Tuple, Dict, Any, Optional"
   ]
  },
  {
   "cell_type": "code",
   "execution_count": 8,
   "id": "1d4d5356",
   "metadata": {
    "ExecuteTime": {
     "end_time": "2022-11-21T07:25:09.090244Z",
     "start_time": "2022-11-21T07:25:09.076245Z"
    }
   },
   "outputs": [],
   "source": [
    "class CaSimulator(MtSimulator):\n",
    "    def __init__(\n",
    "            self, unit='USD', balance=10000., leverage=100.,\n",
    "            stop_out_level=0.2, tpMultiplier= 2, hedge=True, \n",
    "        symbols_filename=None\n",
    "        ) :\n",
    "        MtSimulator.__init__(self, unit='USD', balance=10000., leverage=100.,\n",
    "            stop_out_level=0.2, hedge=True, \n",
    "        symbols_filename=None) \n",
    "        self.tp = tpMultiplier\n",
    "        \n",
    "    def tick(self, delta_time: timedelta=timedelta()) -> None:\n",
    "        self._check_current_time()\n",
    "\n",
    "        self.current_time += delta_time\n",
    "        self.equity = self.balance\n",
    "\n",
    "        for order in self.orders:\n",
    "            order.exit_time = self.current_time\n",
    "            order.exit_price = self.price_at(order.symbol, order.exit_time)['Close']\n",
    "            self._update_order_profit(order)\n",
    "            self.equity += order.profit\n",
    "\n",
    "        while self.margin_level < self.stop_out_level and len(self.orders) > 0:\n",
    "            most_unprofitable_order = min(self.orders, key=lambda order: order.profit)\n",
    "            self.close_order(most_unprofitable_order)\n",
    "\n",
    "        while self.margin_level > self.stop_out_level*self.tp and len(self.orders) > 0:\n",
    "            most_profitable_order = max(self.orders, key=lambda order: order.profit)\n",
    "            self.close_order(most_profitable_order)\n",
    "           \n",
    "        if self.balance < 0.:\n",
    "            self.balance = 0.\n",
    "            self.equity = self.balance"
   ]
  },
  {
   "cell_type": "code",
   "execution_count": 9,
   "id": "96a0aff6",
   "metadata": {
    "ExecuteTime": {
     "end_time": "2022-11-21T07:25:09.106244Z",
     "start_time": "2022-11-21T07:25:09.091249Z"
    }
   },
   "outputs": [],
   "source": [
    "sim = CaSimulator(\n",
    "    unit='GBP',\n",
    "    balance=10000.,\n",
    "    leverage=100.,\n",
    "    stop_out_level=0.01,\n",
    "    tpMultiplier= 2,\n",
    "    hedge=False,\n",
    ")\n",
    "\n",
    "if not sim.load_symbols(FOREX_DATA_PATH):\n",
    "    sim.download_data(\n",
    "        symbols=['EURUSD', 'GBPCAD', 'GBPUSD', 'USDCAD', 'USDCHF', 'GBPJPY', 'USDJPY'],\n",
    "        time_range=(\n",
    "            datetime(2018, 11, 1, tzinfo=pytz.UTC),\n",
    "            datetime(2022, 11, 1, tzinfo=pytz.UTC)\n",
    "        ),\n",
    "        timeframe=Timeframe.H1\n",
    "    )\n",
    "    sim.save_symbols(FOREX_DATA_PATH)"
   ]
  },
  {
   "cell_type": "code",
   "execution_count": 10,
   "id": "117a56e0",
   "metadata": {
    "ExecuteTime": {
     "end_time": "2022-11-21T07:25:20.186229Z",
     "start_time": "2022-11-21T07:25:09.107247Z"
    }
   },
   "outputs": [
    {
     "name": "stdout",
     "output_type": "stream",
     "text": [
      "24836 24836\n"
     ]
    }
   ],
   "source": [
    "symbolList = ['GBPUSD']\n",
    "\n",
    "_data, _time_points = dataHandler(original_simulator=sim, \n",
    "                 trading_symbols=symbolList)._get_prices()\n",
    "\n",
    "\n",
    "print(len(_data['GBPUSD']),len(_time_points))"
   ]
  },
  {
   "cell_type": "code",
   "execution_count": 11,
   "id": "b78b03ff",
   "metadata": {
    "ExecuteTime": {
     "end_time": "2022-11-21T07:25:20.201231Z",
     "start_time": "2022-11-21T07:25:20.187230Z"
    }
   },
   "outputs": [],
   "source": [
    "splitLen = int(0.75*len(_data['GBPUSD']))\n",
    "train = {}\n",
    "test = {}\n",
    "\n",
    "train['GBPUSD'] = _data['GBPUSD'][100:splitLen]\n",
    "test['GBPUSD'] = _data['GBPUSD'][splitLen:]\n",
    "\n",
    "train_time_points = _time_points[100:splitLen]\n",
    "test_time_points =_time_points[splitLen:]"
   ]
  },
  {
   "cell_type": "code",
   "execution_count": 12,
   "id": "c5536a75",
   "metadata": {
    "ExecuteTime": {
     "end_time": "2022-11-21T07:25:20.232232Z",
     "start_time": "2022-11-21T07:25:20.202232Z"
    }
   },
   "outputs": [
    {
     "name": "stdout",
     "output_type": "stream",
     "text": [
      "24\n"
     ]
    }
   ],
   "source": [
    "env_id = \"MtEnv-v1\"\n",
    "num_cpu = os.cpu_count()\n",
    "print(num_cpu)\n",
    "\n",
    "# setting up our environment for training\n",
    "env_maker = lambda: MtEnv(\n",
    "    original_simulator=sim,\n",
    "    trading_symbols=symbolList, # , 'EURUSD', 'GBPCAD'],\n",
    "    priceData = train,\n",
    "    time_points = train_time_points,\n",
    "    window_size=10,\n",
    "    # time_points=[desired time points ...],\n",
    "    hold_threshold=0.5,\n",
    "    close_threshold=0.5,\n",
    "    fee=lambda symbol: {\n",
    "        'GBPUSD': max(0., np.random.normal(0.0007, 0.00005)),\n",
    "        'EURUSD': max(0., np.random.normal(0.0002, 0.00003)),\n",
    "        'USDJPY': max(0., np.random.normal(0.02, 0.003)),\n",
    "    }[symbol],\n",
    "    symbol_max_orders=2,\n",
    "    multiprocessing_processes=1\n",
    ")\n",
    "\n",
    "train_env = DummyVecEnv([env_maker for i in range(os.cpu_count())])\n",
    "#env = SubprocVecEnv([make_env(env_id, i) for i in range(num_cpu)])"
   ]
  },
  {
   "cell_type": "code",
   "execution_count": null,
   "id": "b967b19e",
   "metadata": {
    "ExecuteTime": {
     "start_time": "2022-11-21T07:25:06.351Z"
    }
   },
   "outputs": [
    {
     "data": {
      "application/vnd.jupyter.widget-view+json": {
       "model_id": "8266bfc7766745d494c8340be5ca83c4",
       "version_major": 2,
       "version_minor": 0
      },
      "text/plain": [
       "Output()"
      ]
     },
     "metadata": {},
     "output_type": "display_data"
    }
   ],
   "source": [
    "# from stable_baselines3 import PPO\n",
    "# model = PPO('MultiInputPolicy', env, verbose=0,  learning_rate=0.0003)\n",
    "\n",
    "# from stable_baselines3 import A2C\n",
    "# model = A2C('MultiInputPolicy', env,  learning_rate=0.0007, verbose=0)\n",
    "# model = A2C('MultiInputPolicy', env,  learning_rate=0.0002, verbose=0)\n",
    "\n",
    "from stable_baselines3 import PPO\n",
    "model = PPO('MultiInputPolicy', \n",
    "            env = train_env, \n",
    "            verbose = 0,  \n",
    "            learning_rate = 0.0007)\n",
    "\n",
    "# 1e6 = 20min\n",
    "model.learn(total_timesteps=int(1e7), \n",
    "            progress_bar=True)\n",
    "\n",
    "#model.save(\"./ppo_env\")"
   ]
  },
  {
   "cell_type": "code",
   "execution_count": null,
   "id": "e717423f",
   "metadata": {
    "ExecuteTime": {
     "start_time": "2022-11-21T07:25:06.352Z"
    }
   },
   "outputs": [],
   "source": [
    "test_env = MtEnv(\n",
    "    original_simulator=sim,\n",
    "    trading_symbols=['GBPUSD'], # , 'EURUSD', 'GBPCAD'],\n",
    "    priceData = test,\n",
    "    window_size=10,time_points = test_time_points,\n",
    "    # time_points=[desired time points ...],\n",
    "    hold_threshold=0.5,\n",
    "    close_threshold=0.5,\n",
    "    fee=lambda symbol: {\n",
    "        'GBPUSD': max(0., np.random.normal(0.0007, 0.00005)),\n",
    "        'EURUSD': max(0., np.random.normal(0.0002, 0.00003)),\n",
    "        'USDJPY': max(0., np.random.normal(0.02, 0.003)),\n",
    "    }[symbol],\n",
    "    symbol_max_orders=2,\n",
    "    multiprocessing_processes=2\n",
    ")"
   ]
  },
  {
   "cell_type": "code",
   "execution_count": null,
   "id": "530f2e5f",
   "metadata": {
    "ExecuteTime": {
     "start_time": "2022-11-21T07:25:06.353Z"
    }
   },
   "outputs": [],
   "source": [
    "observation = test_env.reset()\n",
    "while True:\n",
    "    action, _states = model.predict(observation)\n",
    "    observation, reward, done, info = test_env.step(action)\n",
    "    if done:\n",
    "        break\n",
    "\n",
    "test_env.render('simple_figure')"
   ]
  },
  {
   "cell_type": "code",
   "execution_count": null,
   "id": "5a5c00d4",
   "metadata": {
    "ExecuteTime": {
     "start_time": "2022-11-21T07:25:06.354Z"
    }
   },
   "outputs": [],
   "source": [
    "state = test_env.render()\n",
    "\n",
    "print(\n",
    "    f\"balance: {state['balance']}, equity: {state['equity']}, margin: {state['margin']}\\n\"\n",
    "    f\"free_margin: {state['free_margin']}, margin_level: {state['margin_level']}\\n\"\n",
    ")\n"
   ]
  },
  {
   "cell_type": "code",
   "execution_count": null,
   "id": "6d3d7cf9",
   "metadata": {
    "ExecuteTime": {
     "start_time": "2022-11-21T07:25:06.355Z"
    }
   },
   "outputs": [],
   "source": [
    "observation"
   ]
  },
  {
   "cell_type": "code",
   "execution_count": null,
   "id": "6c68396f",
   "metadata": {
    "ExecuteTime": {
     "start_time": "2022-11-21T07:25:06.357Z"
    }
   },
   "outputs": [],
   "source": [
    "state['orders']"
   ]
  },
  {
   "cell_type": "code",
   "execution_count": null,
   "id": "653a8600",
   "metadata": {
    "ExecuteTime": {
     "start_time": "2022-11-21T07:25:06.358Z"
    },
    "scrolled": false
   },
   "outputs": [],
   "source": [
    "df = state['orders']\n",
    "df[df['Profit'] > 0 ]"
   ]
  },
  {
   "cell_type": "code",
   "execution_count": null,
   "id": "faec1185",
   "metadata": {
    "ExecuteTime": {
     "start_time": "2022-11-21T07:25:06.359Z"
    }
   },
   "outputs": [],
   "source": [
    "# percentage winning trades\n",
    "100*len(df[df['Profit'] > 0 ])/len(df)"
   ]
  },
  {
   "cell_type": "code",
   "execution_count": null,
   "id": "9bdea2c4",
   "metadata": {},
   "outputs": [],
   "source": []
  },
  {
   "cell_type": "code",
   "execution_count": null,
   "id": "a8cff139",
   "metadata": {},
   "outputs": [],
   "source": []
  },
  {
   "cell_type": "code",
   "execution_count": null,
   "id": "9e89deaf",
   "metadata": {},
   "outputs": [],
   "source": []
  }
 ],
 "metadata": {
  "kernelspec": {
   "display_name": "Python 3",
   "language": "python",
   "name": "python3"
  },
  "language_info": {
   "codemirror_mode": {
    "name": "ipython",
    "version": 3
   },
   "file_extension": ".py",
   "mimetype": "text/x-python",
   "name": "python",
   "nbconvert_exporter": "python",
   "pygments_lexer": "ipython3",
   "version": "3.7.15"
  },
  "toc": {
   "base_numbering": 1,
   "nav_menu": {},
   "number_sections": true,
   "sideBar": true,
   "skip_h1_title": false,
   "title_cell": "Table of Contents",
   "title_sidebar": "Contents",
   "toc_cell": false,
   "toc_position": {},
   "toc_section_display": true,
   "toc_window_display": false
  },
  "varInspector": {
   "cols": {
    "lenName": 16,
    "lenType": 16,
    "lenVar": 40
   },
   "kernels_config": {
    "python": {
     "delete_cmd_postfix": "",
     "delete_cmd_prefix": "del ",
     "library": "var_list.py",
     "varRefreshCmd": "print(var_dic_list())"
    },
    "r": {
     "delete_cmd_postfix": ") ",
     "delete_cmd_prefix": "rm(",
     "library": "var_list.r",
     "varRefreshCmd": "cat(var_dic_list()) "
    }
   },
   "types_to_exclude": [
    "module",
    "function",
    "builtin_function_or_method",
    "instance",
    "_Feature"
   ],
   "window_display": false
  }
 },
 "nbformat": 4,
 "nbformat_minor": 5
}
